{
 "cells": [
  {
   "cell_type": "markdown",
   "metadata": {},
   "source": [
    "## 准备数据"
   ]
  },
  {
   "cell_type": "code",
   "execution_count": 10,
   "metadata": {},
   "outputs": [],
   "source": [
    "import os\n",
    "import numpy as np\n",
    "import tensorflow as tf\n",
    "from tensorflow import keras\n",
    "from keras import layers, optimizers, datasets\n",
    "\n",
    "os.environ['TF_CPP_MIN_LOG_LEVEL'] = '2'  # or any {'0', '1', '2'}\n",
    "\n",
    "def mnist_dataset():\n",
    "    (x, y), (x_test, y_test) = datasets.mnist.load_data()\n",
    "    #normalize\n",
    "    x = x/255.0\n",
    "    x_test = x_test/255.0\n",
    "    \n",
    "    return (x, y), (x_test, y_test)"
   ]
  },
  {
   "cell_type": "code",
   "execution_count": 11,
   "metadata": {},
   "outputs": [
    {
     "name": "stdout",
     "output_type": "stream",
     "text": [
      "[(1, 'a'), (2, 'b'), (3, 'c'), (4, 'd')]\n"
     ]
    }
   ],
   "source": [
    "print(list(zip([1, 2, 3, 4], ['a', 'b', 'c', 'd'])))"
   ]
  },
  {
   "cell_type": "markdown",
   "metadata": {},
   "source": [
    "## 建立模型"
   ]
  },
  {
   "cell_type": "code",
   "execution_count": 12,
   "metadata": {},
   "outputs": [],
   "source": [
    "class myModel:\n",
    "    def __init__(self):\n",
    "        ####################\n",
    "        '''声明模型对应的参数'''\n",
    "        # 28*28的图片，200个神经元，10种可能的结果\n",
    "        self.W1=tf.Variable(shape=[28*28,200], dtype=tf.float32,initial_value=tf.random.uniform(shape=[28*28, 200],minval=-0.1, maxval=0.1))\n",
    "        self.b1=tf.Variable(shape=[200],dtype=tf.float32, initial_value=tf.zeros(200))\n",
    "        self.W2=tf.Variable(shape=[200,10], dtype=tf.float32,initial_value=tf.random.uniform(shape=[200, 10],minval=-0.1, maxval=0.1))\n",
    "        self.b2=tf.Variable(shape=[10],dtype=tf.float32, initial_value=tf.zeros(10))\n",
    "        ####################\n",
    "    def __call__(self, x):\n",
    "        ####################\n",
    "        '''实现模型函数体，返回未归一化的logits'''\n",
    "        x_=tf.reshape(x,shape=[-1,28*28])\n",
    "        y=tf.tanh(tf.matmul(x_,self.W1)+self.b1)  # 用tanh激活函数\n",
    "        logits=tf.matmul(y,self.W2)+self.b2\n",
    "        ####################\n",
    "        return logits\n",
    "        \n",
    "model = myModel()\n",
    "\n",
    "optimizer = optimizers.Adam()"
   ]
  },
  {
   "cell_type": "markdown",
   "metadata": {},
   "source": [
    "## 计算 loss"
   ]
  },
  {
   "cell_type": "code",
   "execution_count": 13,
   "metadata": {},
   "outputs": [],
   "source": [
    "@tf.function\n",
    "def compute_loss(logits, labels):\n",
    "    return tf.reduce_mean(\n",
    "        tf.nn.sparse_softmax_cross_entropy_with_logits(\n",
    "            logits=logits, labels=labels))\n",
    "\n",
    "@tf.function\n",
    "def compute_accuracy(logits, labels):\n",
    "    predictions = tf.argmax(logits, axis=1)\n",
    "    return tf.reduce_mean(tf.cast(tf.equal(predictions, labels), tf.float32))\n",
    "\n",
    "@tf.function\n",
    "def train_one_step(model, optimizer, x, y):\n",
    "    with tf.GradientTape() as tape:\n",
    "        logits = model(x)\n",
    "        loss = compute_loss(logits, y)\n",
    "\n",
    "    # compute gradient\n",
    "    trainable_vars = [model.W1, model.W2, model.b1, model.b2]\n",
    "    grads = tape.gradient(loss, trainable_vars)\n",
    "    for g, v in zip(grads, trainable_vars):\n",
    "        v.assign_sub(0.01*g)\n",
    "\n",
    "    accuracy = compute_accuracy(logits, y)\n",
    "\n",
    "    # loss and accuracy is scalar tensor\n",
    "    return loss, accuracy\n",
    "\n",
    "@tf.function\n",
    "def test(model, x, y):\n",
    "    logits = model(x)\n",
    "    loss = compute_loss(logits, y)\n",
    "    accuracy = compute_accuracy(logits, y)\n",
    "    return loss, accuracy"
   ]
  },
  {
   "cell_type": "markdown",
   "metadata": {},
   "source": [
    "## 实际训练"
   ]
  },
  {
   "cell_type": "code",
   "execution_count": 14,
   "metadata": {},
   "outputs": [
    {
     "name": "stdout",
     "output_type": "stream",
     "text": [
      "epoch 0 : loss 2.3323243 ; accuracy 0.09126667\n",
      "epoch 1 : loss 2.3210044 ; accuracy 0.096033335\n",
      "epoch 2 : loss 2.3098755 ; accuracy 0.10096667\n",
      "epoch 3 : loss 2.2989278 ; accuracy 0.1065\n",
      "epoch 4 : loss 2.2881532 ; accuracy 0.11265\n",
      "epoch 5 : loss 2.2775426 ; accuracy 0.11928333\n",
      "epoch 6 : loss 2.2670891 ; accuracy 0.12686667\n",
      "epoch 7 : loss 2.2567844 ; accuracy 0.1346\n",
      "epoch 8 : loss 2.246622 ; accuracy 0.14373334\n",
      "epoch 9 : loss 2.2365954 ; accuracy 0.15281667\n",
      "epoch 10 : loss 2.2266989 ; accuracy 0.16261667\n",
      "epoch 11 : loss 2.2169266 ; accuracy 0.17275\n",
      "epoch 12 : loss 2.207273 ; accuracy 0.18343334\n",
      "epoch 13 : loss 2.1977332 ; accuracy 0.19516666\n",
      "epoch 14 : loss 2.1883025 ; accuracy 0.2063\n",
      "epoch 15 : loss 2.1789768 ; accuracy 0.2181\n",
      "epoch 16 : loss 2.1697514 ; accuracy 0.22946666\n",
      "epoch 17 : loss 2.1606228 ; accuracy 0.23985\n",
      "epoch 18 : loss 2.151587 ; accuracy 0.25096667\n",
      "epoch 19 : loss 2.142641 ; accuracy 0.26145\n",
      "epoch 20 : loss 2.1337812 ; accuracy 0.27226666\n",
      "epoch 21 : loss 2.1250048 ; accuracy 0.2831\n",
      "epoch 22 : loss 2.1163087 ; accuracy 0.29451665\n",
      "epoch 23 : loss 2.1076903 ; accuracy 0.3053\n",
      "epoch 24 : loss 2.099147 ; accuracy 0.3157\n",
      "epoch 25 : loss 2.0906765 ; accuracy 0.32626668\n",
      "epoch 26 : loss 2.0822766 ; accuracy 0.33676666\n",
      "epoch 27 : loss 2.073945 ; accuracy 0.34681666\n",
      "epoch 28 : loss 2.0656798 ; accuracy 0.35726666\n",
      "epoch 29 : loss 2.0574791 ; accuracy 0.3671\n",
      "epoch 30 : loss 2.0493412 ; accuracy 0.37723333\n",
      "epoch 31 : loss 2.0412643 ; accuracy 0.38755\n",
      "epoch 32 : loss 2.033247 ; accuracy 0.39806667\n",
      "epoch 33 : loss 2.0252874 ; accuracy 0.4077\n",
      "epoch 34 : loss 2.0173845 ; accuracy 0.4172\n",
      "epoch 35 : loss 2.009537 ; accuracy 0.42588332\n",
      "epoch 36 : loss 2.0017436 ; accuracy 0.43455\n",
      "epoch 37 : loss 1.9940026 ; accuracy 0.44288334\n",
      "epoch 38 : loss 1.9863137 ; accuracy 0.45075\n",
      "epoch 39 : loss 1.9786754 ; accuracy 0.45905\n",
      "epoch 40 : loss 1.9710867 ; accuracy 0.46616668\n",
      "epoch 41 : loss 1.9635469 ; accuracy 0.47338334\n",
      "epoch 42 : loss 1.9560547 ; accuracy 0.48053333\n",
      "epoch 43 : loss 1.9486095 ; accuracy 0.48695\n",
      "epoch 44 : loss 1.9412105 ; accuracy 0.49345\n",
      "epoch 45 : loss 1.9338572 ; accuracy 0.49983335\n",
      "epoch 46 : loss 1.9265484 ; accuracy 0.50595\n",
      "epoch 47 : loss 1.9192836 ; accuracy 0.51195\n",
      "epoch 48 : loss 1.9120623 ; accuracy 0.5180167\n",
      "epoch 49 : loss 1.9048837 ; accuracy 0.52415\n",
      "test loss 1.8945789 ; accuracy 0.5384\n"
     ]
    }
   ],
   "source": [
    "train_data, test_data = mnist_dataset()\n",
    "for epoch in range(50):\n",
    "    loss, accuracy = train_one_step(model, optimizer, \n",
    "                                    tf.constant(train_data[0], dtype=tf.float32), \n",
    "                                    tf.constant(train_data[1], dtype=tf.int64))\n",
    "    print('epoch', epoch, ': loss', loss.numpy(), '; accuracy', accuracy.numpy())\n",
    "loss, accuracy = test(model, \n",
    "                      tf.constant(test_data[0], dtype=tf.float32), \n",
    "                      tf.constant(test_data[1], dtype=tf.int64))\n",
    "\n",
    "print('test loss', loss.numpy(), '; accuracy', accuracy.numpy())"
   ]
  }
 ],
 "metadata": {
  "kernelspec": {
   "display_name": "Python 3",
   "language": "python",
   "name": "python3"
  },
  "language_info": {
   "codemirror_mode": {
    "name": "ipython",
    "version": 3
   },
   "file_extension": ".py",
   "mimetype": "text/x-python",
   "name": "python",
   "nbconvert_exporter": "python",
   "pygments_lexer": "ipython3",
   "version": "3.7.2"
  }
 },
 "nbformat": 4,
 "nbformat_minor": 2
}
